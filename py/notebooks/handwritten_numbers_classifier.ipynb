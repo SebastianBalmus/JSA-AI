{
 "cells": [
  {
   "cell_type": "markdown",
   "source": [
    "# Handwritten numbers recognition with TensorFlow\n",
    "\n",
    "This notebook aims to show the process of building and training a machine learning model with the **mnist** dataset: approximately 70.000 images of handwritten digits. At the end of this notebook, we will have a ML model that is able to classify a handwritten digit."
   ],
   "metadata": {
    "collapsed": false
   }
  },
  {
   "cell_type": "markdown",
   "source": [
    "## Importing the required modules\n",
    "\n",
    "For this project, we will use the following modules:\n",
    "- **os**: system-specific variables and functions.\n",
    "- **numpy**: linear algebra and array operations.\n",
    "- **pandas**: data processing library.\n",
    "- **tensorflow**: creating, training and evaluating the performance of a ML model.\n",
    "- **matplotlib**: data visualization (plots, graphs, histograms etc.)."
   ],
   "metadata": {
    "collapsed": false
   }
  },
  {
   "cell_type": "code",
   "execution_count": 25,
   "metadata": {
    "collapsed": true,
    "ExecuteTime": {
     "end_time": "2023-07-14T09:39:11.842309700Z",
     "start_time": "2023-07-14T09:39:11.837279500Z"
    }
   },
   "outputs": [
    {
     "name": "stdout",
     "output_type": "stream",
     "text": [
      "Successfully imported modules\n"
     ]
    }
   ],
   "source": [
    "import os\n",
    "import numpy as np\n",
    "import pandas as pd\n",
    "import tensorflow as tf\n",
    "from matplotlib import pyplot as plt\n",
    "\n",
    "print('Successfully imported modules')"
   ]
  },
  {
   "cell_type": "markdown",
   "source": [
    "## Settings and hyperparameters definition"
   ],
   "metadata": {
    "collapsed": false
   }
  },
  {
   "cell_type": "code",
   "execution_count": 26,
   "outputs": [
    {
     "name": "stdout",
     "output_type": "stream",
     "text": [
      "Declared the constants\n"
     ]
    }
   ],
   "source": [
    "pd.options.display.max_rows = 10\n",
    "pd.options.display.float_format = \"{:.1f}\".format\n",
    "\n",
    "np.set_printoptions(linewidth=200)\n",
    "\n",
    "LEARNING_RATE = 0.03\n",
    "EPOCHS = 50\n",
    "BATCH_SIZE = 4000\n",
    "VALIDATION_SPLIT = 0.2\n",
    "\n",
    "print('Declared the constants')"
   ],
   "metadata": {
    "collapsed": false,
    "ExecuteTime": {
     "end_time": "2023-07-14T09:39:11.860270600Z",
     "start_time": "2023-07-14T09:39:11.848267900Z"
    }
   }
  },
  {
   "cell_type": "markdown",
   "source": [
    "## Loading the dataset\n",
    "\n",
    "The **mnist** database is already embedded into TensorFlow. Each image consists of a **28x28** matrix of integer values from the **[0, 255]** interval. The matrices represent the B/W version of the numbers, and each digit represents the color intensity."
   ],
   "metadata": {
    "collapsed": false
   }
  },
  {
   "cell_type": "code",
   "execution_count": 27,
   "outputs": [
    {
     "data": {
      "text/plain": "array([[  0,   0,   0,   0,   0,   0,   0,   0,   0,   0,   0,   0,   0,   0,   0,   0,   0,   0,   0,   0,   0,   0,   0,   0,   0,   0,   0,   0],\n       [  0,   0,   0,   0,   0,   0,   0,   0,   0,   0,   0,   0,   0,   0,   0,   0,   0,   0,   0,   0,   0,   0,   0,   0,   0,   0,   0,   0],\n       [  0,   0,   0,   0,   0,   0,   0,   0,   0,   0,   0,   0,   0,   0,   0,   0,   0,   0,   0,   0,   0,   0,   0,   0,   0,   0,   0,   0],\n       [  0,   0,   0,   0,   0,   0,   0,   0,   0,   0,   0,   0,   0,   0,   0,   0,   0,   0,   0,   0,   0,   0,   0,   0,   0,   0,   0,   0],\n       [  0,   0,   0,   0,   0,   0,   0,   0,   0,   0,   0,   0,   0,   0,   0,   0,   0,   0,   0,   0,   0,   0,   0,   0,   0,   0,   0,   0],\n       [  0,   0,   0,   0,   0,   0,   0,   0,   0,   0,   0,   0,   0,   0,   0,   0,   0,   0,   0,   0,   0,   0,   0,   0,   0,   0,   0,   0],\n       [  0,   0,   0,   0,   0,   0,   0,   0,   0,  20, 130, 215, 255, 210, 168, 117,   0,   0,   0,   0,   0,   0,   0,   0,   0,   0,   0,   0],\n       [  0,   0,   0,   0,   0,   0,   0,   0,   0, 142, 254, 211, 130, 105, 176, 239, 191,   0,   0,   0,   0,   0,   0,   0,   0,   0,   0,   0],\n       [  0,   0,   0,   0,   0,   0,   0,   0,  88, 236,  84,   4,   0,   0,   0,  19, 141, 199,  18,   0,   0,   0,   0,   0,   0,   0,   0,   0],\n       [  0,   0,   0,   0,   0,   0,   0,   0, 204, 170,   0,   0,   0,   0,   0,   0,  12,  99,  24,   0,   0,   0,   0,   0,   0,   0,   0,   0],\n       [  0,   0,   0,   0,   0,   0,   0,  65, 253,  56,   0,   0,   0,   0,   0,   0,   0,   0,  35, 215, 137,   0,   0,   0,   0,   0,   0,   0],\n       [  0,   0,   0,   0,   0,   0,   0, 120, 238,  16,   0,   0,   0,   0,   0,   0,   0,   0, 187, 254, 220,   0,   0,   0,   0,   0,   0,   0],\n       [  0,   0,   0,   0,   0,   0,   0, 233, 189,   0,   0,   0,   0,   0,   0,   0,   0,  15, 227, 119,  68,   0,   0,   0,   0,   0,   0,   0],\n       [  0,   0,   0,   0,   0,   0,  65, 252, 189,   0,   0,   0,   0,   0,   0,   0,   0,  26, 254,  82,   0,   0,   0,   0,   0,   0,   0,   0],\n       [  0,   0,   0,   0,   0,   0,  60, 251, 189,   0,   0,   0,   0,   0,   0,   0,   0, 118, 250, 181,   0,   0,   0,   0,   0,   0,   0,   0],\n       [  0,   0,   0,   0,   0,   0,   0, 227, 189,   0,   0,   0,   0,   0,   0,   0,   6, 208, 232,   0,   0,   0,   0,   0,   0,   0,   0,   0],\n       [  0,   0,   0,   0,   0,   0,   0,  84, 243, 103,   0,   0,   0,   0,   0,  32,  94, 254, 160,   0,   0,   0,   0,   0,   0,   0,   0,   0],\n       [  0,   0,   0,   0,   0,   0,   0,  13, 187, 243, 188, 122, 122, 122, 163, 205, 147, 254, 105,   0,   0,   0,   0,   0,   0,   0,   0,   0],\n       [  0,   0,   0,   0,   0,   0,   0,   0,  14, 101, 137, 137, 137, 123,  51,  10, 100, 254,  60,   0,   0,   0,   0,   0,   0,   0,   0,   0],\n       [  0,   0,   0,   0,   0,   0,   0,   0,   0,   0,   0,   0,   0,   0,   0,   0, 154, 233,  13,   0,   0,   0,   0,   0,   0,   0,   0,   0],\n       [  0,   0,   0,   0,   0,   0,   0,   0,   0,   0,   0,   0,   0,   0,   0,  15, 224, 228,   0,   0,   0,   0,   0,   0,   0,   0,   0,   0],\n       [  0,   0,   0,   0,   0,   0,   0,   0,   0,   0,   0,   0,   0,   0,   0,  35, 254, 228,   0,   0,   0,   0,   0,   0,   0,   0,   0,   0],\n       [  0,   0,   0,   0,   0,   0,   0,   0,   0,   0,   0,   0,   0,   0,   0,  35, 254, 194,   0,   0,   0,   0,   0,   0,   0,   0,   0,   0],\n       [  0,   0,   0,   0,   0,   0,   0,   0,   0,   0,   0,   0,   0,   0,   0,  34, 252, 141,   0,   0,   0,   0,   0,   0,   0,   0,   0,   0],\n       [  0,   0,   0,   0,   0,   0,   0,   0,   0,   0,   0,   0,   0,   0,   0,   0, 201, 143,   0,   0,   0,   0,   0,   0,   0,   0,   0,   0],\n       [  0,   0,   0,   0,   0,   0,   0,   0,   0,   0,   0,   0,   0,   0,   0,   0,  88, 245,  41,   0,   0,   0,   0,   0,   0,   0,   0,   0],\n       [  0,   0,   0,   0,   0,   0,   0,   0,   0,   0,   0,   0,   0,   0,   0,   0,   0,   0,   0,   0,   0,   0,   0,   0,   0,   0,   0,   0],\n       [  0,   0,   0,   0,   0,   0,   0,   0,   0,   0,   0,   0,   0,   0,   0,   0,   0,   0,   0,   0,   0,   0,   0,   0,   0,   0,   0,   0]], dtype=uint8)"
     },
     "execution_count": 27,
     "metadata": {},
     "output_type": "execute_result"
    }
   ],
   "source": [
    "(x_train, y_train), (x_test, y_test) = tf.keras.datasets.mnist.load_data()\n",
    "\n",
    "x_train[1732]"
   ],
   "metadata": {
    "collapsed": false,
    "ExecuteTime": {
     "end_time": "2023-07-14T09:39:12.096306900Z",
     "start_time": "2023-07-14T09:39:11.862272200Z"
    }
   }
  },
  {
   "cell_type": "markdown",
   "source": [
    "## Number visualization\n",
    "\n",
    "For a better understanding of how are the images built, we can take a look at the following figure."
   ],
   "metadata": {
    "collapsed": false
   }
  },
  {
   "cell_type": "code",
   "execution_count": 28,
   "outputs": [
    {
     "data": {
      "text/plain": "<matplotlib.image.AxesImage at 0x1e60ec0aeb0>"
     },
     "execution_count": 28,
     "metadata": {},
     "output_type": "execute_result"
    },
    {
     "data": {
      "text/plain": "<Figure size 640x480 with 1 Axes>",
      "image/png": "[encoded data removed]"
     },
     "metadata": {},
     "output_type": "display_data"
    }
   ],
   "source": [
    "plt.figure()\n",
    "plt.imshow(x_train[1732])"
   ],
   "metadata": {
    "collapsed": false,
    "ExecuteTime": {
     "end_time": "2023-07-14T09:39:12.242271900Z",
     "start_time": "2023-07-14T09:39:12.098297200Z"
    }
   }
  },
  {
   "cell_type": "markdown",
   "source": [
    "## Data normalization\n",
    "\n",
    "The goal of the normalization process is to transform features to be on a similar scale. This improves the performance and stability of the model. In our case, we will scale the range of the values to a smaller one: **[0, 1]**."
   ],
   "metadata": {
    "collapsed": false
   }
  },
  {
   "cell_type": "code",
   "execution_count": 29,
   "outputs": [
    {
     "name": "stdout",
     "output_type": "stream",
     "text": [
      "Normalized the data\n"
     ]
    }
   ],
   "source": [
    "x_train_normalized = x_train / 255.0\n",
    "x_test_normalized = x_test / 255.0\n",
    "\n",
    "print('Normalized the data')"
   ],
   "metadata": {
    "collapsed": false,
    "ExecuteTime": {
     "end_time": "2023-07-14T09:39:12.399261300Z",
     "start_time": "2023-07-14T09:39:12.241261400Z"
    }
   }
  },
  {
   "cell_type": "markdown",
   "source": [
    "## Creating our model\n",
    "\n",
    "Due to the fact that handwritten numbers identification is a multiclass classification problem, our architecture will look like this:\n",
    "![Neural network architecture](../../assets/Architecture.png)\n",
    "\n",
    "Our input image will always be a **28x28** matrix. In order to make our neural network understand the data provided, we will add a few hidden layers:\n",
    "- In order for our neural network to understand the matrix, we will add a **flatten** layer. This layer will reduce the multidimensional input in a single dimensional one.\n",
    "- A **dense** layer that implements the Rectified Linear Unit function (**ReLU**). The function is expressed as: $f(x) = max(x, 0)$. This implements the nonlinearity of our model.\n",
    "- In order to prevent overfitting, we will add **dropout** to our neural net. Dropout is a regularization technique where a percentage of randomly selected nodes will be ignored during training.\n",
    "- Another **dense** layer is added just before the output of the neural net, but this time with **softmax** activation. This type of function is used when there are more than 2 possible outputs."
   ],
   "metadata": {
    "collapsed": false
   }
  },
  {
   "cell_type": "code",
   "execution_count": 30,
   "outputs": [
    {
     "name": "stdout",
     "output_type": "stream",
     "text": [
      "Defined the create model function\n"
     ]
    }
   ],
   "source": [
    "def create_model(learning_rate: float) -> tf.keras.Model:\n",
    "    ml_model = tf.keras.models.Sequential()\n",
    "\n",
    "    ml_model.add(tf.keras.layers.Flatten(input_shape=(28, 28)))\n",
    "\n",
    "    ml_model.add(tf.keras.layers.Dense(units=256, activation='relu'))\n",
    "\n",
    "    ml_model.add(tf.keras.layers.Dropout(rate=0.4))\n",
    "\n",
    "    ml_model.add(tf.keras.layers.Dense(units=10, activation='softmax'))\n",
    "\n",
    "    ml_model.compile(\n",
    "        optimizer=tf.keras.optimizers.Adam(learning_rate=learning_rate),\n",
    "        loss='sparse_categorical_crossentropy',\n",
    "        metrics=['accuracy']\n",
    "    )\n",
    "\n",
    "    return ml_model\n",
    "\n",
    "print('Defined the create model function')"
   ],
   "metadata": {
    "collapsed": false,
    "ExecuteTime": {
     "end_time": "2023-07-14T09:39:12.460424700Z",
     "start_time": "2023-07-14T09:39:12.404268300Z"
    }
   }
  },
  {
   "cell_type": "markdown",
   "source": [
    "## Training the model\n",
    "\n",
    "In order to train our model, we will use the ```fit``` function with the following parameters:\n",
    "- **x**: the feature.\n",
    "- **y**: the label.\n",
    "- **batch_size**: how many units of data we will use during one epoch.\n",
    "- **epochs**: number of epochs.\n",
    "- **shuffle**: whether to shuffle the training data before each epoch or not.\n",
    "- **validation_split**: how much of the training set will be used for validation."
   ],
   "metadata": {
    "collapsed": false
   }
  },
  {
   "cell_type": "code",
   "execution_count": 31,
   "outputs": [
    {
     "name": "stdout",
     "output_type": "stream",
     "text": [
      "Defined the train model function\n"
     ]
    }
   ],
   "source": [
    "def train_model(ml_model, train_feature, train_label, epochs_count,\n",
    "                batch_size=None, validation_split=0.1):\n",
    "    history = ml_model.fit(\n",
    "        x=train_feature,\n",
    "        y=train_label,\n",
    "        batch_size=batch_size,\n",
    "        epochs=epochs_count,\n",
    "        shuffle=True,\n",
    "        validation_split=validation_split,\n",
    "    )\n",
    "\n",
    "    training_epochs = history.epoch\n",
    "    training_hist = pd.DataFrame(history.history)\n",
    "\n",
    "    return training_epochs, training_hist\n",
    "\n",
    "print('Defined the train model function')"
   ],
   "metadata": {
    "collapsed": false,
    "ExecuteTime": {
     "end_time": "2023-07-14T09:39:12.463272100Z",
     "start_time": "2023-07-14T09:39:12.418263Z"
    }
   }
  },
  {
   "cell_type": "markdown",
   "source": [
    "## Creating a model and training it on our dataset (Neural Network)"
   ],
   "metadata": {
    "collapsed": false
   }
  },
  {
   "cell_type": "code",
   "execution_count": 32,
   "outputs": [
    {
     "name": "stdout",
     "output_type": "stream",
     "text": [
      "Epoch 1/50\n",
      "12/12 [==============================] - 1s 33ms/step - loss: 2.1107 - accuracy: 0.5404 - val_loss: 0.4914 - val_accuracy: 0.8681\n",
      "Epoch 2/50\n",
      "12/12 [==============================] - 0s 26ms/step - loss: 0.5612 - accuracy: 0.8219 - val_loss: 0.2890 - val_accuracy: 0.9176\n",
      "Epoch 3/50\n",
      "12/12 [==============================] - 0s 29ms/step - loss: 0.3873 - accuracy: 0.8837 - val_loss: 0.2280 - val_accuracy: 0.9342\n",
      "Epoch 4/50\n",
      "12/12 [==============================] - 0s 25ms/step - loss: 0.3182 - accuracy: 0.9060 - val_loss: 0.1931 - val_accuracy: 0.9453\n",
      "Epoch 5/50\n",
      "12/12 [==============================] - 0s 24ms/step - loss: 0.2675 - accuracy: 0.9194 - val_loss: 0.1712 - val_accuracy: 0.9508\n",
      "Epoch 6/50\n",
      "12/12 [==============================] - 0s 32ms/step - loss: 0.2403 - accuracy: 0.9279 - val_loss: 0.1579 - val_accuracy: 0.9547\n",
      "Epoch 7/50\n",
      "12/12 [==============================] - 0s 28ms/step - loss: 0.2173 - accuracy: 0.9340 - val_loss: 0.1530 - val_accuracy: 0.9565\n",
      "Epoch 8/50\n",
      "12/12 [==============================] - 0s 25ms/step - loss: 0.2039 - accuracy: 0.9367 - val_loss: 0.1362 - val_accuracy: 0.9638\n",
      "Epoch 9/50\n",
      "12/12 [==============================] - 0s 29ms/step - loss: 0.1869 - accuracy: 0.9419 - val_loss: 0.1345 - val_accuracy: 0.9638\n",
      "Epoch 10/50\n",
      "12/12 [==============================] - 0s 25ms/step - loss: 0.1719 - accuracy: 0.9460 - val_loss: 0.1274 - val_accuracy: 0.9645\n",
      "Epoch 11/50\n",
      "12/12 [==============================] - 0s 25ms/step - loss: 0.1651 - accuracy: 0.9479 - val_loss: 0.1300 - val_accuracy: 0.9654\n",
      "Epoch 12/50\n",
      "12/12 [==============================] - 0s 26ms/step - loss: 0.1578 - accuracy: 0.9508 - val_loss: 0.1242 - val_accuracy: 0.9664\n",
      "Epoch 13/50\n",
      "12/12 [==============================] - 0s 29ms/step - loss: 0.1487 - accuracy: 0.9531 - val_loss: 0.1179 - val_accuracy: 0.9685\n",
      "Epoch 14/50\n",
      "12/12 [==============================] - 0s 24ms/step - loss: 0.1445 - accuracy: 0.9541 - val_loss: 0.1178 - val_accuracy: 0.9675\n",
      "Epoch 15/50\n",
      "12/12 [==============================] - 0s 27ms/step - loss: 0.1379 - accuracy: 0.9567 - val_loss: 0.1173 - val_accuracy: 0.9703\n",
      "Epoch 16/50\n",
      "12/12 [==============================] - 0s 26ms/step - loss: 0.1320 - accuracy: 0.9576 - val_loss: 0.1137 - val_accuracy: 0.9698\n",
      "Epoch 17/50\n",
      "12/12 [==============================] - 0s 25ms/step - loss: 0.1257 - accuracy: 0.9604 - val_loss: 0.1137 - val_accuracy: 0.9693\n",
      "Epoch 18/50\n",
      "12/12 [==============================] - 0s 30ms/step - loss: 0.1190 - accuracy: 0.9632 - val_loss: 0.1114 - val_accuracy: 0.9702\n",
      "Epoch 19/50\n",
      "12/12 [==============================] - 0s 25ms/step - loss: 0.1159 - accuracy: 0.9635 - val_loss: 0.1135 - val_accuracy: 0.9697\n",
      "Epoch 20/50\n",
      "12/12 [==============================] - 0s 25ms/step - loss: 0.1143 - accuracy: 0.9633 - val_loss: 0.1129 - val_accuracy: 0.9707\n",
      "Epoch 21/50\n",
      "12/12 [==============================] - 0s 28ms/step - loss: 0.1087 - accuracy: 0.9658 - val_loss: 0.1093 - val_accuracy: 0.9708\n",
      "Epoch 22/50\n",
      "12/12 [==============================] - 0s 25ms/step - loss: 0.1059 - accuracy: 0.9659 - val_loss: 0.1111 - val_accuracy: 0.9707\n",
      "Epoch 23/50\n",
      "12/12 [==============================] - 0s 25ms/step - loss: 0.1055 - accuracy: 0.9665 - val_loss: 0.1136 - val_accuracy: 0.9716\n",
      "Epoch 24/50\n",
      "12/12 [==============================] - 0s 26ms/step - loss: 0.1040 - accuracy: 0.9660 - val_loss: 0.1134 - val_accuracy: 0.9707\n",
      "Epoch 25/50\n",
      "12/12 [==============================] - 0s 28ms/step - loss: 0.0973 - accuracy: 0.9681 - val_loss: 0.1121 - val_accuracy: 0.9718\n",
      "Epoch 26/50\n",
      "12/12 [==============================] - 0s 24ms/step - loss: 0.0956 - accuracy: 0.9688 - val_loss: 0.1084 - val_accuracy: 0.9736\n",
      "Epoch 27/50\n",
      "12/12 [==============================] - 0s 29ms/step - loss: 0.0920 - accuracy: 0.9697 - val_loss: 0.1123 - val_accuracy: 0.9733\n",
      "Epoch 28/50\n",
      "12/12 [==============================] - 0s 26ms/step - loss: 0.0914 - accuracy: 0.9707 - val_loss: 0.1078 - val_accuracy: 0.9730\n",
      "Epoch 29/50\n",
      "12/12 [==============================] - 0s 24ms/step - loss: 0.0898 - accuracy: 0.9708 - val_loss: 0.1134 - val_accuracy: 0.9728\n",
      "Epoch 30/50\n",
      "12/12 [==============================] - 0s 25ms/step - loss: 0.0877 - accuracy: 0.9714 - val_loss: 0.1183 - val_accuracy: 0.9712\n",
      "Epoch 31/50\n",
      "12/12 [==============================] - 0s 30ms/step - loss: 0.0891 - accuracy: 0.9713 - val_loss: 0.1078 - val_accuracy: 0.9737\n",
      "Epoch 32/50\n",
      "12/12 [==============================] - 0s 25ms/step - loss: 0.0816 - accuracy: 0.9724 - val_loss: 0.1162 - val_accuracy: 0.9729\n",
      "Epoch 33/50\n",
      "12/12 [==============================] - 0s 28ms/step - loss: 0.0831 - accuracy: 0.9717 - val_loss: 0.1150 - val_accuracy: 0.9720\n",
      "Epoch 34/50\n",
      "12/12 [==============================] - 0s 31ms/step - loss: 0.0836 - accuracy: 0.9717 - val_loss: 0.1139 - val_accuracy: 0.9732\n",
      "Epoch 35/50\n",
      "12/12 [==============================] - 0s 26ms/step - loss: 0.0814 - accuracy: 0.9738 - val_loss: 0.1142 - val_accuracy: 0.9719\n",
      "Epoch 36/50\n",
      "12/12 [==============================] - 0s 25ms/step - loss: 0.0826 - accuracy: 0.9722 - val_loss: 0.1159 - val_accuracy: 0.9731\n",
      "Epoch 37/50\n",
      "12/12 [==============================] - 0s 27ms/step - loss: 0.0751 - accuracy: 0.9747 - val_loss: 0.1215 - val_accuracy: 0.9733\n",
      "Epoch 38/50\n",
      "12/12 [==============================] - 0s 25ms/step - loss: 0.0750 - accuracy: 0.9746 - val_loss: 0.1181 - val_accuracy: 0.9729\n",
      "Epoch 39/50\n",
      "12/12 [==============================] - 0s 24ms/step - loss: 0.0740 - accuracy: 0.9750 - val_loss: 0.1201 - val_accuracy: 0.9723\n",
      "Epoch 40/50\n",
      "12/12 [==============================] - 0s 28ms/step - loss: 0.0724 - accuracy: 0.9763 - val_loss: 0.1169 - val_accuracy: 0.9742\n",
      "Epoch 41/50\n",
      "12/12 [==============================] - 0s 24ms/step - loss: 0.0723 - accuracy: 0.9761 - val_loss: 0.1181 - val_accuracy: 0.9724\n",
      "Epoch 42/50\n",
      "12/12 [==============================] - 0s 25ms/step - loss: 0.0728 - accuracy: 0.9755 - val_loss: 0.1189 - val_accuracy: 0.9734\n",
      "Epoch 43/50\n",
      "12/12 [==============================] - 0s 29ms/step - loss: 0.0697 - accuracy: 0.9766 - val_loss: 0.1174 - val_accuracy: 0.9744\n",
      "Epoch 44/50\n",
      "12/12 [==============================] - 0s 28ms/step - loss: 0.0696 - accuracy: 0.9765 - val_loss: 0.1181 - val_accuracy: 0.9734\n",
      "Epoch 45/50\n",
      "12/12 [==============================] - 0s 25ms/step - loss: 0.0668 - accuracy: 0.9779 - val_loss: 0.1197 - val_accuracy: 0.9744\n",
      "Epoch 46/50\n",
      "12/12 [==============================] - 0s 27ms/step - loss: 0.0652 - accuracy: 0.9783 - val_loss: 0.1183 - val_accuracy: 0.9736\n",
      "Epoch 47/50\n",
      "12/12 [==============================] - 0s 26ms/step - loss: 0.0631 - accuracy: 0.9788 - val_loss: 0.1274 - val_accuracy: 0.9739\n",
      "Epoch 48/50\n",
      "12/12 [==============================] - 0s 24ms/step - loss: 0.0648 - accuracy: 0.9788 - val_loss: 0.1272 - val_accuracy: 0.9728\n",
      "Epoch 49/50\n",
      "12/12 [==============================] - 0s 25ms/step - loss: 0.0642 - accuracy: 0.9779 - val_loss: 0.1238 - val_accuracy: 0.9734\n",
      "Epoch 50/50\n",
      "12/12 [==============================] - 0s 26ms/step - loss: 0.0642 - accuracy: 0.9778 - val_loss: 0.1251 - val_accuracy: 0.9727\n"
     ]
    }
   ],
   "source": [
    "nn_model = create_model(LEARNING_RATE)\n",
    "\n",
    "nn_epochs, nn_hist = train_model(\n",
    "    nn_model,\n",
    "    x_train_normalized,\n",
    "    y_train,\n",
    "    EPOCHS,\n",
    "    batch_size=BATCH_SIZE,\n",
    "    validation_split=VALIDATION_SPLIT,\n",
    ")"
   ],
   "metadata": {
    "collapsed": false,
    "ExecuteTime": {
     "end_time": "2023-07-14T09:39:28.670143600Z",
     "start_time": "2023-07-14T09:39:12.436263500Z"
    }
   }
  },
  {
   "cell_type": "markdown",
   "source": [
    "## Model performance visualization (Neural Network)"
   ],
   "metadata": {
    "collapsed": false
   }
  },
  {
   "cell_type": "code",
   "execution_count": 33,
   "outputs": [
    {
     "name": "stdout",
     "output_type": "stream",
     "text": [
      "Defined the plotting function\n"
     ]
    }
   ],
   "source": [
    "def plot_the_accuracy_curve(training_epochs, training_hist, list_of_metrics, title):\n",
    "    plt.figure()\n",
    "    plt.title(title)\n",
    "    plt.xlabel('Epoch')\n",
    "    plt.ylabel('Value')\n",
    "\n",
    "    for metric in list_of_metrics:\n",
    "        x = training_hist[metric]\n",
    "        plt.plot(training_epochs[1:], x[1:], label=metric)\n",
    "\n",
    "    plt.legend()\n",
    "    plt.show()\n",
    "\n",
    "print('Defined the plotting function')"
   ],
   "metadata": {
    "collapsed": false,
    "ExecuteTime": {
     "end_time": "2023-07-14T09:39:28.716131500Z",
     "start_time": "2023-07-14T09:39:28.672133500Z"
    }
   }
  },
  {
   "cell_type": "markdown",
   "source": [
    "## Plotting the accuracy of the models"
   ],
   "metadata": {
    "collapsed": false
   }
  },
  {
   "cell_type": "code",
   "execution_count": 34,
   "outputs": [
    {
     "data": {
      "text/plain": "<Figure size 640x480 with 1 Axes>",
      "image/png": "[encoded data removed]"
     },
     "metadata": {},
     "output_type": "display_data"
    }
   ],
   "source": [
    "list_of_metrics_to_plot = ['accuracy']\n",
    "\n",
    "plot_the_accuracy_curve(nn_epochs, nn_hist, list_of_metrics_to_plot, 'Neural Network Accuracy')"
   ],
   "metadata": {
    "collapsed": false,
    "ExecuteTime": {
     "end_time": "2023-07-14T09:39:28.816227Z",
     "start_time": "2023-07-14T09:39:28.688137Z"
    }
   }
  },
  {
   "cell_type": "markdown",
   "source": [
    "## Evaluating our models with the test dataset"
   ],
   "metadata": {
    "collapsed": false
   }
  },
  {
   "cell_type": "code",
   "execution_count": 35,
   "outputs": [
    {
     "name": "stdout",
     "output_type": "stream",
     "text": [
      "3/3 [==============================] - 0s 9ms/step - loss: 0.1199 - accuracy: 0.9743\n"
     ]
    }
   ],
   "source": [
    "_ = nn_model.evaluate(\n",
    "    x=x_test_normalized,\n",
    "    y=y_test,\n",
    "    batch_size=BATCH_SIZE\n",
    ")"
   ],
   "metadata": {
    "collapsed": false,
    "ExecuteTime": {
     "end_time": "2023-07-14T09:39:29.032558300Z",
     "start_time": "2023-07-14T09:39:28.819138500Z"
    }
   }
  },
  {
   "cell_type": "markdown",
   "source": [
    "## Saving our model (Neural Network)"
   ],
   "metadata": {
    "collapsed": false
   }
  },
  {
   "cell_type": "code",
   "execution_count": 36,
   "outputs": [
    {
     "name": "stderr",
     "output_type": "stream",
     "text": [
      "WARNING:absl:Found untraced functions such as _update_step_xla while saving (showing 1 of 1). These functions will not be directly callable after loading.\n"
     ]
    },
    {
     "name": "stdout",
     "output_type": "stream",
     "text": [
      "INFO:tensorflow:Assets written to: C:\\Users\\sbalmus\\PycharmProjects\\ML_Learning\\My_projects\\handwritten_numbers_classifier\\model\\assets\n"
     ]
    },
    {
     "name": "stderr",
     "output_type": "stream",
     "text": [
      "INFO:tensorflow:Assets written to: C:\\Users\\sbalmus\\PycharmProjects\\ML_Learning\\My_projects\\handwritten_numbers_classifier\\model\\assets\n"
     ]
    },
    {
     "name": "stdout",
     "output_type": "stream",
     "text": [
      "Saved the model.\n"
     ]
    }
   ],
   "source": [
    "save_path = os.path.abspath(os.path.join(os.getcwd(), '../..', 'model'))\n",
    "nn_model.save(save_path)\n",
    "\n",
    "print('Saved the model.')"
   ],
   "metadata": {
    "collapsed": false,
    "ExecuteTime": {
     "end_time": "2023-07-14T09:39:29.461561100Z",
     "start_time": "2023-07-14T09:39:29.005487200Z"
    }
   }
  }
 ],
 "metadata": {
  "kernelspec": {
   "display_name": "Python 3",
   "language": "python",
   "name": "python3"
  },
  "language_info": {
   "codemirror_mode": {
    "name": "ipython",
    "version": 2
   },
   "file_extension": ".py",
   "mimetype": "text/x-python",
   "name": "python",
   "nbconvert_exporter": "python",
   "pygments_lexer": "ipython2",
   "version": "2.7.6"
  }
 },
 "nbformat": 4,
 "nbformat_minor": 0
}

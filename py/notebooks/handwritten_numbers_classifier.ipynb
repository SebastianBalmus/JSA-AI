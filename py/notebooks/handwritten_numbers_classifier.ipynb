{
 "cells": [
  {
   "cell_type": "markdown",
   "source": [
    "# Handwritten numbers recognition with TensorFlow\n",
    "\n",
    "This notebook aims to show the process of building and training a machine learning model with the **mnist** dataset: approximately 70.000 images of handwritten digits. At the end of this notebook, we will have a ML model that is able to classify a handwritten digit."
   ],
   "metadata": {
    "collapsed": false
   }
  },
  {
   "cell_type": "markdown",
   "source": [
    "## Importing the required modules\n",
    "\n",
    "For this project, we will use the following modules:\n",
    "- **os**: system-specific variables and functions.\n",
    "- **numpy**: linear algebra and array operations.\n",
    "- **pandas**: data processing library.\n",
    "- **tensorflow**: creating, training and evaluating the performance of a ML model.\n",
    "- **matplotlib**: data visualization (plots, graphs, histograms etc.)."
   ],
   "metadata": {
    "collapsed": false
   }
  },
  {
   "cell_type": "code",
   "execution_count": 145,
   "metadata": {
    "collapsed": true,
    "ExecuteTime": {
     "end_time": "2023-07-11T13:44:35.365491900Z",
     "start_time": "2023-07-11T13:44:35.347545300Z"
    }
   },
   "outputs": [
    {
     "name": "stdout",
     "output_type": "stream",
     "text": [
      "Successfully imported modules\n"
     ]
    }
   ],
   "source": [
    "import os\n",
    "import numpy as np\n",
    "import pandas as pd\n",
    "import tensorflow as tf\n",
    "from matplotlib import pyplot as plt\n",
    "\n",
    "print('Successfully imported modules')"
   ]
  },
  {
   "cell_type": "markdown",
   "source": [
    "## Settings and hyperparameters definition"
   ],
   "metadata": {
    "collapsed": false
   }
  },
  {
   "cell_type": "code",
   "execution_count": 146,
   "outputs": [
    {
     "name": "stdout",
     "output_type": "stream",
     "text": [
      "Declared the constants\n"
     ]
    }
   ],
   "source": [
    "pd.options.display.max_rows = 10\n",
    "pd.options.display.float_format = \"{:.1f}\".format\n",
    "\n",
    "np.set_printoptions(linewidth=200)\n",
    "\n",
    "LEARNING_RATE = 0.03\n",
    "EPOCHS = 50\n",
    "BATCH_SIZE = 4000\n",
    "VALIDATION_SPLIT = 0.2\n",
    "\n",
    "print('Declared the constants')"
   ],
   "metadata": {
    "collapsed": false,
    "ExecuteTime": {
     "end_time": "2023-07-11T13:44:35.426577100Z",
     "start_time": "2023-07-11T13:44:35.384462800Z"
    }
   }
  },
  {
   "cell_type": "markdown",
   "source": [
    "## Loading the dataset\n",
    "\n",
    "The **mnist** database is already embedded into TensorFlow. Each image consists of a **28x28** matrix of integer values from the **[0, 255]** interval. The matrices represent the B/W version of the numbers, and each digit represents the color intensity."
   ],
   "metadata": {
    "collapsed": false
   }
  },
  {
   "cell_type": "code",
   "execution_count": 147,
   "outputs": [
    {
     "data": {
      "text/plain": "array([[  0,   0,   0,   0,   0,   0,   0,   0,   0,   0,   0,   0,   0,   0,   0,   0,   0,   0,   0,   0,   0,   0,   0,   0,   0,   0,   0,   0],\n       [  0,   0,   0,   0,   0,   0,   0,   0,   0,   0,   0,   0,   0,   0,   0,   0,   0,   0,   0,   0,   0,   0,   0,   0,   0,   0,   0,   0],\n       [  0,   0,   0,   0,   0,   0,   0,   0,   0,   0,   0,   0,   0,   0,   0,   0,   0,   0,   0,   0,   0,   0,   0,   0,   0,   0,   0,   0],\n       [  0,   0,   0,   0,   0,   0,   0,   0,   0,   0,   0,   0,   0,   0,   0,   0,   0,   0,   0,   0,   0,   0,   0,   0,   0,   0,   0,   0],\n       [  0,   0,   0,   0,   0,   0,   0,   0,   0,   0,   0,   0,   0,   0,   0,   0,   0,   0,   0,   0,   0,   0,   0,   0,   0,   0,   0,   0],\n       [  0,   0,   0,   0,   0,   0,   0,   0,   0,   0,   0,   0,   0,   0,   0,   0,   0,   0,   0,   0,   0,   0,   0,   0,   0,   0,   0,   0],\n       [  0,   0,   0,   0,   0,   0,   0,   0,   0,  20, 130, 215, 255, 210, 168, 117,   0,   0,   0,   0,   0,   0,   0,   0,   0,   0,   0,   0],\n       [  0,   0,   0,   0,   0,   0,   0,   0,   0, 142, 254, 211, 130, 105, 176, 239, 191,   0,   0,   0,   0,   0,   0,   0,   0,   0,   0,   0],\n       [  0,   0,   0,   0,   0,   0,   0,   0,  88, 236,  84,   4,   0,   0,   0,  19, 141, 199,  18,   0,   0,   0,   0,   0,   0,   0,   0,   0],\n       [  0,   0,   0,   0,   0,   0,   0,   0, 204, 170,   0,   0,   0,   0,   0,   0,  12,  99,  24,   0,   0,   0,   0,   0,   0,   0,   0,   0],\n       [  0,   0,   0,   0,   0,   0,   0,  65, 253,  56,   0,   0,   0,   0,   0,   0,   0,   0,  35, 215, 137,   0,   0,   0,   0,   0,   0,   0],\n       [  0,   0,   0,   0,   0,   0,   0, 120, 238,  16,   0,   0,   0,   0,   0,   0,   0,   0, 187, 254, 220,   0,   0,   0,   0,   0,   0,   0],\n       [  0,   0,   0,   0,   0,   0,   0, 233, 189,   0,   0,   0,   0,   0,   0,   0,   0,  15, 227, 119,  68,   0,   0,   0,   0,   0,   0,   0],\n       [  0,   0,   0,   0,   0,   0,  65, 252, 189,   0,   0,   0,   0,   0,   0,   0,   0,  26, 254,  82,   0,   0,   0,   0,   0,   0,   0,   0],\n       [  0,   0,   0,   0,   0,   0,  60, 251, 189,   0,   0,   0,   0,   0,   0,   0,   0, 118, 250, 181,   0,   0,   0,   0,   0,   0,   0,   0],\n       [  0,   0,   0,   0,   0,   0,   0, 227, 189,   0,   0,   0,   0,   0,   0,   0,   6, 208, 232,   0,   0,   0,   0,   0,   0,   0,   0,   0],\n       [  0,   0,   0,   0,   0,   0,   0,  84, 243, 103,   0,   0,   0,   0,   0,  32,  94, 254, 160,   0,   0,   0,   0,   0,   0,   0,   0,   0],\n       [  0,   0,   0,   0,   0,   0,   0,  13, 187, 243, 188, 122, 122, 122, 163, 205, 147, 254, 105,   0,   0,   0,   0,   0,   0,   0,   0,   0],\n       [  0,   0,   0,   0,   0,   0,   0,   0,  14, 101, 137, 137, 137, 123,  51,  10, 100, 254,  60,   0,   0,   0,   0,   0,   0,   0,   0,   0],\n       [  0,   0,   0,   0,   0,   0,   0,   0,   0,   0,   0,   0,   0,   0,   0,   0, 154, 233,  13,   0,   0,   0,   0,   0,   0,   0,   0,   0],\n       [  0,   0,   0,   0,   0,   0,   0,   0,   0,   0,   0,   0,   0,   0,   0,  15, 224, 228,   0,   0,   0,   0,   0,   0,   0,   0,   0,   0],\n       [  0,   0,   0,   0,   0,   0,   0,   0,   0,   0,   0,   0,   0,   0,   0,  35, 254, 228,   0,   0,   0,   0,   0,   0,   0,   0,   0,   0],\n       [  0,   0,   0,   0,   0,   0,   0,   0,   0,   0,   0,   0,   0,   0,   0,  35, 254, 194,   0,   0,   0,   0,   0,   0,   0,   0,   0,   0],\n       [  0,   0,   0,   0,   0,   0,   0,   0,   0,   0,   0,   0,   0,   0,   0,  34, 252, 141,   0,   0,   0,   0,   0,   0,   0,   0,   0,   0],\n       [  0,   0,   0,   0,   0,   0,   0,   0,   0,   0,   0,   0,   0,   0,   0,   0, 201, 143,   0,   0,   0,   0,   0,   0,   0,   0,   0,   0],\n       [  0,   0,   0,   0,   0,   0,   0,   0,   0,   0,   0,   0,   0,   0,   0,   0,  88, 245,  41,   0,   0,   0,   0,   0,   0,   0,   0,   0],\n       [  0,   0,   0,   0,   0,   0,   0,   0,   0,   0,   0,   0,   0,   0,   0,   0,   0,   0,   0,   0,   0,   0,   0,   0,   0,   0,   0,   0],\n       [  0,   0,   0,   0,   0,   0,   0,   0,   0,   0,   0,   0,   0,   0,   0,   0,   0,   0,   0,   0,   0,   0,   0,   0,   0,   0,   0,   0]], dtype=uint8)"
     },
     "execution_count": 147,
     "metadata": {},
     "output_type": "execute_result"
    }
   ],
   "source": [
    "(x_train, y_train), (x_test, y_test) = tf.keras.datasets.mnist.load_data()\n",
    "\n",
    "x_train[1732]"
   ],
   "metadata": {
    "collapsed": false,
    "ExecuteTime": {
     "end_time": "2023-07-11T13:44:35.690504400Z",
     "start_time": "2023-07-11T13:44:35.402272700Z"
    }
   }
  },
  {
   "cell_type": "markdown",
   "source": [
    "## Number visualization\n",
    "\n",
    "For a better understanding of how are the images built, we can take a look at the following figure."
   ],
   "metadata": {
    "collapsed": false
   }
  },
  {
   "cell_type": "code",
   "execution_count": 148,
   "outputs": [
    {
     "data": {
      "text/plain": "<matplotlib.image.AxesImage at 0x26aa18a6e50>"
     },
     "execution_count": 148,
     "metadata": {},
     "output_type": "execute_result"
    },
    {
     "data": {
      "text/plain": "<Figure size 640x480 with 1 Axes>",
      "image/png": "[encoded data removed]"
     },
     "metadata": {},
     "output_type": "display_data"
    }
   ],
   "source": [
    "plt.figure()\n",
    "plt.imshow(x_train[1732])"
   ],
   "metadata": {
    "collapsed": false,
    "ExecuteTime": {
     "end_time": "2023-07-11T13:44:36.008586100Z",
     "start_time": "2023-07-11T13:44:35.694515900Z"
    }
   }
  },
  {
   "cell_type": "markdown",
   "source": [
    "## Data normalization\n",
    "\n",
    "The goal of the normalization process is to transform features to be on a similar scale. This improves the performance and stability of the model. In our case, we will scale the range of the values to a smaller one: **[0, 1]**."
   ],
   "metadata": {
    "collapsed": false
   }
  },
  {
   "cell_type": "code",
   "execution_count": 149,
   "outputs": [
    {
     "name": "stdout",
     "output_type": "stream",
     "text": [
      "Normalized the data\n"
     ]
    }
   ],
   "source": [
    "x_train_normalized = x_train / 255.0\n",
    "x_test_normalized = x_test / 255.0\n",
    "\n",
    "print('Normalized the data')"
   ],
   "metadata": {
    "collapsed": false,
    "ExecuteTime": {
     "end_time": "2023-07-11T13:44:36.209308Z",
     "start_time": "2023-07-11T13:44:36.013571700Z"
    }
   }
  },
  {
   "cell_type": "markdown",
   "source": [
    "## Creating our model\n",
    "\n",
    "Due to the fact that handwritten numbers identification is a multiclass classification problem, our architecture will look like this:\n",
    "![Neural network architecture](../../assets/Architecture.png)\n",
    "\n",
    "Our input image will always be a **28x28** matrix. In order to make our neural network understand the data provided, we will add a few hidden layers:\n",
    "- In order for our neural network to understand the matrix, we will add a **flatten** layer. This layer will reduce the multidimensional input in a single dimensional one.\n",
    "- A **dense** layer that implements the Rectified Linear Unit function (**ReLU**). The function is expressed as: $f(x) = max(x, 0)$. This implements the nonlinearity of our model.\n",
    "- In order to prevent overfitting, we will add **dropout** to our neural net. Dropout is a regularization technique where a percentage of randomly selected nodes will be ignored during training.\n",
    "- Another **dense** layer is added just before the output of the neural net, but this time with **softmax** activation. This type of function is used when there are more than 2 possible outputs."
   ],
   "metadata": {
    "collapsed": false
   }
  },
  {
   "cell_type": "code",
   "execution_count": 150,
   "outputs": [
    {
     "name": "stdout",
     "output_type": "stream",
     "text": [
      "Defined the create model function\n"
     ]
    }
   ],
   "source": [
    "def create_model(learning_rate: float) -> tf.keras.Model:\n",
    "    ml_model = tf.keras.models.Sequential()\n",
    "\n",
    "    ml_model.add(tf.keras.layers.Flatten(input_shape=(28, 28)))\n",
    "\n",
    "    ml_model.add(tf.keras.layers.Dense(units=256, activation='relu'))\n",
    "\n",
    "    ml_model.add(tf.keras.layers.Dropout(rate=0.4))\n",
    "\n",
    "    ml_model.add(tf.keras.layers.Dense(units=10, activation='softmax'))\n",
    "\n",
    "    ml_model.compile(\n",
    "        optimizer=tf.keras.optimizers.Adam(learning_rate=learning_rate),\n",
    "        loss='sparse_categorical_crossentropy',\n",
    "        metrics=['accuracy']\n",
    "    )\n",
    "\n",
    "    return ml_model\n",
    "\n",
    "print('Defined the create model function')"
   ],
   "metadata": {
    "collapsed": false,
    "ExecuteTime": {
     "end_time": "2023-07-11T13:44:36.282797200Z",
     "start_time": "2023-07-11T13:44:36.217274500Z"
    }
   }
  },
  {
   "cell_type": "markdown",
   "source": [
    "## Training the model\n",
    "\n",
    "In order to train our model, we will use the ```fit``` function with the following parameters:\n",
    "- **x**: the feature.\n",
    "- **y**: the label.\n",
    "- **batch_size**: how many units of data we will use during one epoch.\n",
    "- **epochs**: number of epochs.\n",
    "- **shuffle**: whether to shuffle the training data before each epoch or not.\n",
    "- **validation_split**: how much of the training set will be used for validation."
   ],
   "metadata": {
    "collapsed": false
   }
  },
  {
   "cell_type": "code",
   "execution_count": 151,
   "outputs": [
    {
     "name": "stdout",
     "output_type": "stream",
     "text": [
      "Defined the train model function\n"
     ]
    }
   ],
   "source": [
    "def train_model(ml_model, train_feature, train_label, epochs_count,\n",
    "                batch_size=None, validation_split=0.1):\n",
    "    history = ml_model.fit(\n",
    "        x=train_feature,\n",
    "        y=train_label,\n",
    "        batch_size=batch_size,\n",
    "        epochs=epochs_count,\n",
    "        shuffle=True,\n",
    "        validation_split=validation_split,\n",
    "    )\n",
    "\n",
    "    training_epochs = history.epoch\n",
    "    training_hist = pd.DataFrame(history.history)\n",
    "\n",
    "    return training_epochs, training_hist\n",
    "\n",
    "print('Defined the train model function')"
   ],
   "metadata": {
    "collapsed": false,
    "ExecuteTime": {
     "end_time": "2023-07-11T13:44:36.302386Z",
     "start_time": "2023-07-11T13:44:36.235278300Z"
    }
   }
  },
  {
   "cell_type": "markdown",
   "source": [
    "## Creating a model and training it on our dataset (Neural Network)"
   ],
   "metadata": {
    "collapsed": false
   }
  },
  {
   "cell_type": "code",
   "execution_count": 152,
   "outputs": [
    {
     "name": "stdout",
     "output_type": "stream",
     "text": [
      "Epoch 1/50\n",
      "12/12 [==============================] - 1s 49ms/step - loss: 2.0311 - accuracy: 0.5709 - val_loss: 0.4843 - val_accuracy: 0.8645\n",
      "Epoch 2/50\n",
      "12/12 [==============================] - 0s 40ms/step - loss: 0.5077 - accuracy: 0.8450 - val_loss: 0.2650 - val_accuracy: 0.9235\n",
      "Epoch 3/50\n",
      "12/12 [==============================] - 0s 37ms/step - loss: 0.3569 - accuracy: 0.8955 - val_loss: 0.2113 - val_accuracy: 0.9408\n",
      "Epoch 4/50\n",
      "12/12 [==============================] - 0s 34ms/step - loss: 0.2891 - accuracy: 0.9152 - val_loss: 0.1798 - val_accuracy: 0.9482\n",
      "Epoch 5/50\n",
      "12/12 [==============================] - 0s 39ms/step - loss: 0.2493 - accuracy: 0.9261 - val_loss: 0.1669 - val_accuracy: 0.9511\n",
      "Epoch 6/50\n",
      "12/12 [==============================] - 0s 34ms/step - loss: 0.2212 - accuracy: 0.9338 - val_loss: 0.1478 - val_accuracy: 0.9556\n",
      "Epoch 7/50\n",
      "12/12 [==============================] - 0s 36ms/step - loss: 0.2033 - accuracy: 0.9390 - val_loss: 0.1420 - val_accuracy: 0.9584\n",
      "Epoch 8/50\n",
      "12/12 [==============================] - 0s 36ms/step - loss: 0.1843 - accuracy: 0.9445 - val_loss: 0.1332 - val_accuracy: 0.9617\n",
      "Epoch 9/50\n",
      "12/12 [==============================] - 0s 34ms/step - loss: 0.1724 - accuracy: 0.9480 - val_loss: 0.1280 - val_accuracy: 0.9644\n",
      "Epoch 10/50\n",
      "12/12 [==============================] - 0s 35ms/step - loss: 0.1619 - accuracy: 0.9508 - val_loss: 0.1257 - val_accuracy: 0.9646\n",
      "Epoch 11/50\n",
      "12/12 [==============================] - 0s 38ms/step - loss: 0.1506 - accuracy: 0.9530 - val_loss: 0.1172 - val_accuracy: 0.9662\n",
      "Epoch 12/50\n",
      "12/12 [==============================] - 0s 36ms/step - loss: 0.1425 - accuracy: 0.9556 - val_loss: 0.1150 - val_accuracy: 0.9671\n",
      "Epoch 13/50\n",
      "12/12 [==============================] - 0s 35ms/step - loss: 0.1350 - accuracy: 0.9577 - val_loss: 0.1147 - val_accuracy: 0.9673\n",
      "Epoch 14/50\n",
      "12/12 [==============================] - 0s 40ms/step - loss: 0.1288 - accuracy: 0.9597 - val_loss: 0.1124 - val_accuracy: 0.9687\n",
      "Epoch 15/50\n",
      "12/12 [==============================] - 0s 37ms/step - loss: 0.1226 - accuracy: 0.9611 - val_loss: 0.1118 - val_accuracy: 0.9688\n",
      "Epoch 16/50\n",
      "12/12 [==============================] - 0s 37ms/step - loss: 0.1184 - accuracy: 0.9627 - val_loss: 0.1085 - val_accuracy: 0.9694\n",
      "Epoch 17/50\n",
      "12/12 [==============================] - 0s 35ms/step - loss: 0.1099 - accuracy: 0.9654 - val_loss: 0.1095 - val_accuracy: 0.9697\n",
      "Epoch 18/50\n",
      "12/12 [==============================] - 0s 36ms/step - loss: 0.1068 - accuracy: 0.9661 - val_loss: 0.1067 - val_accuracy: 0.9710\n",
      "Epoch 19/50\n",
      "12/12 [==============================] - 0s 37ms/step - loss: 0.1028 - accuracy: 0.9669 - val_loss: 0.1047 - val_accuracy: 0.9720\n",
      "Epoch 20/50\n",
      "12/12 [==============================] - 0s 38ms/step - loss: 0.0979 - accuracy: 0.9688 - val_loss: 0.1059 - val_accuracy: 0.9728\n",
      "Epoch 21/50\n",
      "12/12 [==============================] - 1s 46ms/step - loss: 0.0995 - accuracy: 0.9682 - val_loss: 0.1033 - val_accuracy: 0.9720\n",
      "Epoch 22/50\n",
      "12/12 [==============================] - 1s 43ms/step - loss: 0.0945 - accuracy: 0.9697 - val_loss: 0.1068 - val_accuracy: 0.9729\n",
      "Epoch 23/50\n",
      "12/12 [==============================] - 1s 43ms/step - loss: 0.0903 - accuracy: 0.9704 - val_loss: 0.0998 - val_accuracy: 0.9746\n",
      "Epoch 24/50\n",
      "12/12 [==============================] - 0s 39ms/step - loss: 0.0872 - accuracy: 0.9718 - val_loss: 0.1016 - val_accuracy: 0.9735\n",
      "Epoch 25/50\n",
      "12/12 [==============================] - 0s 35ms/step - loss: 0.0856 - accuracy: 0.9724 - val_loss: 0.1025 - val_accuracy: 0.9737\n",
      "Epoch 26/50\n",
      "12/12 [==============================] - 0s 37ms/step - loss: 0.0822 - accuracy: 0.9728 - val_loss: 0.1067 - val_accuracy: 0.9736\n",
      "Epoch 27/50\n",
      "12/12 [==============================] - 0s 36ms/step - loss: 0.0829 - accuracy: 0.9731 - val_loss: 0.1015 - val_accuracy: 0.9742\n",
      "Epoch 28/50\n",
      "12/12 [==============================] - 0s 36ms/step - loss: 0.0784 - accuracy: 0.9741 - val_loss: 0.0991 - val_accuracy: 0.9753\n",
      "Epoch 29/50\n",
      "12/12 [==============================] - 0s 34ms/step - loss: 0.0760 - accuracy: 0.9747 - val_loss: 0.1010 - val_accuracy: 0.9749\n",
      "Epoch 30/50\n",
      "12/12 [==============================] - 0s 36ms/step - loss: 0.0768 - accuracy: 0.9746 - val_loss: 0.1039 - val_accuracy: 0.9740\n",
      "Epoch 31/50\n",
      "12/12 [==============================] - 0s 35ms/step - loss: 0.0776 - accuracy: 0.9741 - val_loss: 0.1040 - val_accuracy: 0.9747\n",
      "Epoch 32/50\n",
      "12/12 [==============================] - 0s 35ms/step - loss: 0.0719 - accuracy: 0.9762 - val_loss: 0.1047 - val_accuracy: 0.9739\n",
      "Epoch 33/50\n",
      "12/12 [==============================] - 0s 37ms/step - loss: 0.0705 - accuracy: 0.9768 - val_loss: 0.1073 - val_accuracy: 0.9740\n",
      "Epoch 34/50\n",
      "12/12 [==============================] - 0s 35ms/step - loss: 0.0702 - accuracy: 0.9770 - val_loss: 0.1092 - val_accuracy: 0.9740\n",
      "Epoch 35/50\n",
      "12/12 [==============================] - 0s 39ms/step - loss: 0.0701 - accuracy: 0.9770 - val_loss: 0.1088 - val_accuracy: 0.9743\n",
      "Epoch 36/50\n",
      "12/12 [==============================] - 0s 36ms/step - loss: 0.0669 - accuracy: 0.9779 - val_loss: 0.1099 - val_accuracy: 0.9743\n",
      "Epoch 37/50\n",
      "12/12 [==============================] - 0s 38ms/step - loss: 0.0651 - accuracy: 0.9783 - val_loss: 0.1125 - val_accuracy: 0.9751\n",
      "Epoch 38/50\n",
      "12/12 [==============================] - 0s 34ms/step - loss: 0.0654 - accuracy: 0.9782 - val_loss: 0.1098 - val_accuracy: 0.9747\n",
      "Epoch 39/50\n",
      "12/12 [==============================] - 0s 38ms/step - loss: 0.0633 - accuracy: 0.9794 - val_loss: 0.1080 - val_accuracy: 0.9753\n",
      "Epoch 40/50\n",
      "12/12 [==============================] - 0s 34ms/step - loss: 0.0577 - accuracy: 0.9810 - val_loss: 0.1050 - val_accuracy: 0.9749\n",
      "Epoch 41/50\n",
      "12/12 [==============================] - 0s 34ms/step - loss: 0.0573 - accuracy: 0.9808 - val_loss: 0.1066 - val_accuracy: 0.9747\n",
      "Epoch 42/50\n",
      "12/12 [==============================] - 0s 36ms/step - loss: 0.0561 - accuracy: 0.9813 - val_loss: 0.1085 - val_accuracy: 0.9748\n",
      "Epoch 43/50\n",
      "12/12 [==============================] - 0s 35ms/step - loss: 0.0544 - accuracy: 0.9818 - val_loss: 0.1070 - val_accuracy: 0.9763\n",
      "Epoch 44/50\n",
      "12/12 [==============================] - 0s 38ms/step - loss: 0.0578 - accuracy: 0.9805 - val_loss: 0.1090 - val_accuracy: 0.9753\n",
      "Epoch 45/50\n",
      "12/12 [==============================] - 0s 35ms/step - loss: 0.0555 - accuracy: 0.9809 - val_loss: 0.1076 - val_accuracy: 0.9762\n",
      "Epoch 46/50\n",
      "12/12 [==============================] - 0s 34ms/step - loss: 0.0565 - accuracy: 0.9817 - val_loss: 0.1081 - val_accuracy: 0.9748\n",
      "Epoch 47/50\n",
      "12/12 [==============================] - 0s 36ms/step - loss: 0.0542 - accuracy: 0.9825 - val_loss: 0.1126 - val_accuracy: 0.9753\n",
      "Epoch 48/50\n",
      "12/12 [==============================] - 0s 34ms/step - loss: 0.0546 - accuracy: 0.9816 - val_loss: 0.1159 - val_accuracy: 0.9750\n",
      "Epoch 49/50\n",
      "12/12 [==============================] - 0s 38ms/step - loss: 0.0545 - accuracy: 0.9812 - val_loss: 0.1103 - val_accuracy: 0.9765\n",
      "Epoch 50/50\n",
      "12/12 [==============================] - 0s 33ms/step - loss: 0.0537 - accuracy: 0.9818 - val_loss: 0.1165 - val_accuracy: 0.9747\n"
     ]
    }
   ],
   "source": [
    "nn_model = create_model(LEARNING_RATE)\n",
    "\n",
    "nn_epochs, nn_hist = train_model(\n",
    "    nn_model,\n",
    "    x_train_normalized,\n",
    "    y_train,\n",
    "    EPOCHS,\n",
    "    batch_size=BATCH_SIZE,\n",
    "    validation_split=VALIDATION_SPLIT,\n",
    ")"
   ],
   "metadata": {
    "collapsed": false,
    "ExecuteTime": {
     "end_time": "2023-07-11T13:44:59.079712300Z",
     "start_time": "2023-07-11T13:44:36.251769700Z"
    }
   }
  },
  {
   "cell_type": "markdown",
   "source": [
    "## Model performance visualization (Neural Network)"
   ],
   "metadata": {
    "collapsed": false
   }
  },
  {
   "cell_type": "code",
   "execution_count": 153,
   "outputs": [
    {
     "name": "stdout",
     "output_type": "stream",
     "text": [
      "Defined the plotting function\n"
     ]
    }
   ],
   "source": [
    "def plot_the_accuracy_curve(training_epochs, training_hist, list_of_metrics, title):\n",
    "    plt.figure()\n",
    "    plt.title(title)\n",
    "    plt.xlabel('Epoch')\n",
    "    plt.ylabel('Value')\n",
    "\n",
    "    for metric in list_of_metrics:\n",
    "        x = training_hist[metric]\n",
    "        plt.plot(training_epochs[1:], x[1:], label=metric)\n",
    "\n",
    "    plt.legend()\n",
    "    plt.show()\n",
    "\n",
    "print('Defined the plotting function')"
   ],
   "metadata": {
    "collapsed": false,
    "ExecuteTime": {
     "end_time": "2023-07-11T13:44:59.120943300Z",
     "start_time": "2023-07-11T13:44:59.081714400Z"
    }
   }
  },
  {
   "cell_type": "markdown",
   "source": [
    "## Plotting the accuracy of the models"
   ],
   "metadata": {
    "collapsed": false
   }
  },
  {
   "cell_type": "code",
   "execution_count": 154,
   "outputs": [
    {
     "data": {
      "text/plain": "<Figure size 640x480 with 1 Axes>",
      "image/png": "[encoded data removed]"
     },
     "metadata": {},
     "output_type": "display_data"
    }
   ],
   "source": [
    "list_of_metrics_to_plot = ['accuracy']\n",
    "\n",
    "plot_the_accuracy_curve(nn_epochs, nn_hist, list_of_metrics_to_plot, 'Neural Network Accuracy')"
   ],
   "metadata": {
    "collapsed": false,
    "ExecuteTime": {
     "end_time": "2023-07-11T13:44:59.265694200Z",
     "start_time": "2023-07-11T13:44:59.094873800Z"
    }
   }
  },
  {
   "cell_type": "markdown",
   "source": [
    "## Evaluating our models with the test dataset"
   ],
   "metadata": {
    "collapsed": false
   }
  },
  {
   "cell_type": "code",
   "execution_count": 155,
   "outputs": [
    {
     "name": "stdout",
     "output_type": "stream",
     "text": [
      "3/3 [==============================] - 0s 14ms/step - loss: 0.1181 - accuracy: 0.9736\n"
     ]
    }
   ],
   "source": [
    "_ = nn_model.evaluate(\n",
    "    x=x_test_normalized,\n",
    "    y=y_test,\n",
    "    batch_size=BATCH_SIZE\n",
    ")"
   ],
   "metadata": {
    "collapsed": false,
    "ExecuteTime": {
     "end_time": "2023-07-11T13:44:59.572900500Z",
     "start_time": "2023-07-11T13:44:59.267694Z"
    }
   }
  },
  {
   "cell_type": "markdown",
   "source": [
    "## Saving our model (Neural Network)"
   ],
   "metadata": {
    "collapsed": false
   }
  },
  {
   "cell_type": "code",
   "execution_count": 156,
   "outputs": [
    {
     "name": "stderr",
     "output_type": "stream",
     "text": [
      "WARNING:absl:Found untraced functions such as _update_step_xla while saving (showing 1 of 1). These functions will not be directly callable after loading.\n"
     ]
    },
    {
     "name": "stdout",
     "output_type": "stream",
     "text": [
      "INFO:tensorflow:Assets written to: C:\\Users\\sbalmus\\PycharmProjects\\ML_Learning\\My_projects\\handwritten_numbers_classifier\\model\\notebook_demo\\assets\n"
     ]
    },
    {
     "name": "stderr",
     "output_type": "stream",
     "text": [
      "INFO:tensorflow:Assets written to: C:\\Users\\sbalmus\\PycharmProjects\\ML_Learning\\My_projects\\handwritten_numbers_classifier\\model\\notebook_demo\\assets\n"
     ]
    },
    {
     "name": "stdout",
     "output_type": "stream",
     "text": [
      "Saved the model.\n"
     ]
    }
   ],
   "source": [
    "save_path = os.path.abspath(os.path.join(os.getcwd(), '../..', 'model', 'notebook_demo'))\n",
    "nn_model.save(save_path)\n",
    "\n",
    "print('Saved the model.')"
   ],
   "metadata": {
    "collapsed": false,
    "ExecuteTime": {
     "end_time": "2023-07-11T13:45:00.302176400Z",
     "start_time": "2023-07-11T13:44:59.545210800Z"
    }
   }
  }
 ],
 "metadata": {
  "kernelspec": {
   "display_name": "Python 3",
   "language": "python",
   "name": "python3"
  },
  "language_info": {
   "codemirror_mode": {
    "name": "ipython",
    "version": 2
   },
   "file_extension": ".py",
   "mimetype": "text/x-python",
   "name": "python",
   "nbconvert_exporter": "python",
   "pygments_lexer": "ipython2",
   "version": "2.7.6"
  }
 },
 "nbformat": 4,
 "nbformat_minor": 0
}
